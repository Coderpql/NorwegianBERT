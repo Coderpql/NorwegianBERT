{
  "nbformat": 4,
  "nbformat_minor": 0,
  "metadata": {
    "colab": {
      "name": "NB-BERT-PyTorch.ipynb",
      "provenance": [],
      "collapsed_sections": []
    },
    "kernelspec": {
      "name": "python3",
      "display_name": "Python 3"
    },
    "accelerator": "GPU",
    "widgets": {
      "application/vnd.jupyter.widget-state+json": {
        "652f5e5c62544f35be255997ee2fbb68": {
          "model_module": "@jupyter-widgets/controls",
          "model_name": "HBoxModel",
          "state": {
            "_view_name": "HBoxView",
            "_dom_classes": [],
            "_model_name": "HBoxModel",
            "_view_module": "@jupyter-widgets/controls",
            "_model_module_version": "1.5.0",
            "_view_count": null,
            "_view_module_version": "1.5.0",
            "box_style": "",
            "layout": "IPY_MODEL_a374f1e2e6db4f7388aa8926e6dfd705",
            "_model_module": "@jupyter-widgets/controls",
            "children": [
              "IPY_MODEL_c470ddb8bb5e4e3cb851be10436170a3",
              "IPY_MODEL_2a7b069e1ac545a7bc29359664b36e28"
            ]
          }
        },
        "a374f1e2e6db4f7388aa8926e6dfd705": {
          "model_module": "@jupyter-widgets/base",
          "model_name": "LayoutModel",
          "state": {
            "_view_name": "LayoutView",
            "grid_template_rows": null,
            "right": null,
            "justify_content": null,
            "_view_module": "@jupyter-widgets/base",
            "overflow": null,
            "_model_module_version": "1.2.0",
            "_view_count": null,
            "flex_flow": null,
            "width": null,
            "min_width": null,
            "border": null,
            "align_items": null,
            "bottom": null,
            "_model_module": "@jupyter-widgets/base",
            "top": null,
            "grid_column": null,
            "overflow_y": null,
            "overflow_x": null,
            "grid_auto_flow": null,
            "grid_area": null,
            "grid_template_columns": null,
            "flex": null,
            "_model_name": "LayoutModel",
            "justify_items": null,
            "grid_row": null,
            "max_height": null,
            "align_content": null,
            "visibility": null,
            "align_self": null,
            "height": null,
            "min_height": null,
            "padding": null,
            "grid_auto_rows": null,
            "grid_gap": null,
            "max_width": null,
            "order": null,
            "_view_module_version": "1.2.0",
            "grid_template_areas": null,
            "object_position": null,
            "object_fit": null,
            "grid_auto_columns": null,
            "margin": null,
            "display": null,
            "left": null
          }
        },
        "c470ddb8bb5e4e3cb851be10436170a3": {
          "model_module": "@jupyter-widgets/controls",
          "model_name": "FloatProgressModel",
          "state": {
            "_view_name": "ProgressView",
            "style": "IPY_MODEL_616b30aba7c345b0a1ddfecf2fa9af85",
            "_dom_classes": [],
            "description": "Downloading: 100%",
            "_model_name": "FloatProgressModel",
            "bar_style": "success",
            "max": 995526,
            "_view_module": "@jupyter-widgets/controls",
            "_model_module_version": "1.5.0",
            "value": 995526,
            "_view_count": null,
            "_view_module_version": "1.5.0",
            "orientation": "horizontal",
            "min": 0,
            "description_tooltip": null,
            "_model_module": "@jupyter-widgets/controls",
            "layout": "IPY_MODEL_b331dfb2a49d474a9b04a8224207eafe"
          }
        },
        "2a7b069e1ac545a7bc29359664b36e28": {
          "model_module": "@jupyter-widgets/controls",
          "model_name": "HTMLModel",
          "state": {
            "_view_name": "HTMLView",
            "style": "IPY_MODEL_bd699e749e2a489abeede0f4a1b92ce9",
            "_dom_classes": [],
            "description": "",
            "_model_name": "HTMLModel",
            "placeholder": "​",
            "_view_module": "@jupyter-widgets/controls",
            "_model_module_version": "1.5.0",
            "value": " 996k/996k [00:02&lt;00:00, 442kB/s]",
            "_view_count": null,
            "_view_module_version": "1.5.0",
            "description_tooltip": null,
            "_model_module": "@jupyter-widgets/controls",
            "layout": "IPY_MODEL_48c81271200947d4b7f0a7a46edb88a4"
          }
        },
        "616b30aba7c345b0a1ddfecf2fa9af85": {
          "model_module": "@jupyter-widgets/controls",
          "model_name": "ProgressStyleModel",
          "state": {
            "_view_name": "StyleView",
            "_model_name": "ProgressStyleModel",
            "description_width": "initial",
            "_view_module": "@jupyter-widgets/base",
            "_model_module_version": "1.5.0",
            "_view_count": null,
            "_view_module_version": "1.2.0",
            "bar_color": null,
            "_model_module": "@jupyter-widgets/controls"
          }
        },
        "b331dfb2a49d474a9b04a8224207eafe": {
          "model_module": "@jupyter-widgets/base",
          "model_name": "LayoutModel",
          "state": {
            "_view_name": "LayoutView",
            "grid_template_rows": null,
            "right": null,
            "justify_content": null,
            "_view_module": "@jupyter-widgets/base",
            "overflow": null,
            "_model_module_version": "1.2.0",
            "_view_count": null,
            "flex_flow": null,
            "width": null,
            "min_width": null,
            "border": null,
            "align_items": null,
            "bottom": null,
            "_model_module": "@jupyter-widgets/base",
            "top": null,
            "grid_column": null,
            "overflow_y": null,
            "overflow_x": null,
            "grid_auto_flow": null,
            "grid_area": null,
            "grid_template_columns": null,
            "flex": null,
            "_model_name": "LayoutModel",
            "justify_items": null,
            "grid_row": null,
            "max_height": null,
            "align_content": null,
            "visibility": null,
            "align_self": null,
            "height": null,
            "min_height": null,
            "padding": null,
            "grid_auto_rows": null,
            "grid_gap": null,
            "max_width": null,
            "order": null,
            "_view_module_version": "1.2.0",
            "grid_template_areas": null,
            "object_position": null,
            "object_fit": null,
            "grid_auto_columns": null,
            "margin": null,
            "display": null,
            "left": null
          }
        },
        "bd699e749e2a489abeede0f4a1b92ce9": {
          "model_module": "@jupyter-widgets/controls",
          "model_name": "DescriptionStyleModel",
          "state": {
            "_view_name": "StyleView",
            "_model_name": "DescriptionStyleModel",
            "description_width": "",
            "_view_module": "@jupyter-widgets/base",
            "_model_module_version": "1.5.0",
            "_view_count": null,
            "_view_module_version": "1.2.0",
            "_model_module": "@jupyter-widgets/controls"
          }
        },
        "48c81271200947d4b7f0a7a46edb88a4": {
          "model_module": "@jupyter-widgets/base",
          "model_name": "LayoutModel",
          "state": {
            "_view_name": "LayoutView",
            "grid_template_rows": null,
            "right": null,
            "justify_content": null,
            "_view_module": "@jupyter-widgets/base",
            "overflow": null,
            "_model_module_version": "1.2.0",
            "_view_count": null,
            "flex_flow": null,
            "width": null,
            "min_width": null,
            "border": null,
            "align_items": null,
            "bottom": null,
            "_model_module": "@jupyter-widgets/base",
            "top": null,
            "grid_column": null,
            "overflow_y": null,
            "overflow_x": null,
            "grid_auto_flow": null,
            "grid_area": null,
            "grid_template_columns": null,
            "flex": null,
            "_model_name": "LayoutModel",
            "justify_items": null,
            "grid_row": null,
            "max_height": null,
            "align_content": null,
            "visibility": null,
            "align_self": null,
            "height": null,
            "min_height": null,
            "padding": null,
            "grid_auto_rows": null,
            "grid_gap": null,
            "max_width": null,
            "order": null,
            "_view_module_version": "1.2.0",
            "grid_template_areas": null,
            "object_position": null,
            "object_fit": null,
            "grid_auto_columns": null,
            "margin": null,
            "display": null,
            "left": null
          }
        },
        "8889ce31af0147c0b231ea6e3334dd47": {
          "model_module": "@jupyter-widgets/controls",
          "model_name": "HBoxModel",
          "state": {
            "_view_name": "HBoxView",
            "_dom_classes": [],
            "_model_name": "HBoxModel",
            "_view_module": "@jupyter-widgets/controls",
            "_model_module_version": "1.5.0",
            "_view_count": null,
            "_view_module_version": "1.5.0",
            "box_style": "",
            "layout": "IPY_MODEL_7629deb857734b00b52b8489e17b4c6f",
            "_model_module": "@jupyter-widgets/controls",
            "children": [
              "IPY_MODEL_9228c1559ee14ee992c3b6c4786f401e",
              "IPY_MODEL_ead8d7e987cc4d4c97f0929d94a1d009"
            ]
          }
        },
        "7629deb857734b00b52b8489e17b4c6f": {
          "model_module": "@jupyter-widgets/base",
          "model_name": "LayoutModel",
          "state": {
            "_view_name": "LayoutView",
            "grid_template_rows": null,
            "right": null,
            "justify_content": null,
            "_view_module": "@jupyter-widgets/base",
            "overflow": null,
            "_model_module_version": "1.2.0",
            "_view_count": null,
            "flex_flow": null,
            "width": null,
            "min_width": null,
            "border": null,
            "align_items": null,
            "bottom": null,
            "_model_module": "@jupyter-widgets/base",
            "top": null,
            "grid_column": null,
            "overflow_y": null,
            "overflow_x": null,
            "grid_auto_flow": null,
            "grid_area": null,
            "grid_template_columns": null,
            "flex": null,
            "_model_name": "LayoutModel",
            "justify_items": null,
            "grid_row": null,
            "max_height": null,
            "align_content": null,
            "visibility": null,
            "align_self": null,
            "height": null,
            "min_height": null,
            "padding": null,
            "grid_auto_rows": null,
            "grid_gap": null,
            "max_width": null,
            "order": null,
            "_view_module_version": "1.2.0",
            "grid_template_areas": null,
            "object_position": null,
            "object_fit": null,
            "grid_auto_columns": null,
            "margin": null,
            "display": null,
            "left": null
          }
        },
        "9228c1559ee14ee992c3b6c4786f401e": {
          "model_module": "@jupyter-widgets/controls",
          "model_name": "FloatProgressModel",
          "state": {
            "_view_name": "ProgressView",
            "style": "IPY_MODEL_a9b4abc19e83439780b6467b6d7a3d40",
            "_dom_classes": [],
            "description": "Downloading: 100%",
            "_model_name": "FloatProgressModel",
            "bar_style": "success",
            "max": 112,
            "_view_module": "@jupyter-widgets/controls",
            "_model_module_version": "1.5.0",
            "value": 112,
            "_view_count": null,
            "_view_module_version": "1.5.0",
            "orientation": "horizontal",
            "min": 0,
            "description_tooltip": null,
            "_model_module": "@jupyter-widgets/controls",
            "layout": "IPY_MODEL_1cb3795108af46f187d9e21466f68573"
          }
        },
        "ead8d7e987cc4d4c97f0929d94a1d009": {
          "model_module": "@jupyter-widgets/controls",
          "model_name": "HTMLModel",
          "state": {
            "_view_name": "HTMLView",
            "style": "IPY_MODEL_92be2e553a2e4508b1439b0c9a55d24c",
            "_dom_classes": [],
            "description": "",
            "_model_name": "HTMLModel",
            "placeholder": "​",
            "_view_module": "@jupyter-widgets/controls",
            "_model_module_version": "1.5.0",
            "value": " 112/112 [00:00&lt;00:00, 156B/s]",
            "_view_count": null,
            "_view_module_version": "1.5.0",
            "description_tooltip": null,
            "_model_module": "@jupyter-widgets/controls",
            "layout": "IPY_MODEL_9a54dbf17503481589cac73dc8f66afd"
          }
        },
        "a9b4abc19e83439780b6467b6d7a3d40": {
          "model_module": "@jupyter-widgets/controls",
          "model_name": "ProgressStyleModel",
          "state": {
            "_view_name": "StyleView",
            "_model_name": "ProgressStyleModel",
            "description_width": "initial",
            "_view_module": "@jupyter-widgets/base",
            "_model_module_version": "1.5.0",
            "_view_count": null,
            "_view_module_version": "1.2.0",
            "bar_color": null,
            "_model_module": "@jupyter-widgets/controls"
          }
        },
        "1cb3795108af46f187d9e21466f68573": {
          "model_module": "@jupyter-widgets/base",
          "model_name": "LayoutModel",
          "state": {
            "_view_name": "LayoutView",
            "grid_template_rows": null,
            "right": null,
            "justify_content": null,
            "_view_module": "@jupyter-widgets/base",
            "overflow": null,
            "_model_module_version": "1.2.0",
            "_view_count": null,
            "flex_flow": null,
            "width": null,
            "min_width": null,
            "border": null,
            "align_items": null,
            "bottom": null,
            "_model_module": "@jupyter-widgets/base",
            "top": null,
            "grid_column": null,
            "overflow_y": null,
            "overflow_x": null,
            "grid_auto_flow": null,
            "grid_area": null,
            "grid_template_columns": null,
            "flex": null,
            "_model_name": "LayoutModel",
            "justify_items": null,
            "grid_row": null,
            "max_height": null,
            "align_content": null,
            "visibility": null,
            "align_self": null,
            "height": null,
            "min_height": null,
            "padding": null,
            "grid_auto_rows": null,
            "grid_gap": null,
            "max_width": null,
            "order": null,
            "_view_module_version": "1.2.0",
            "grid_template_areas": null,
            "object_position": null,
            "object_fit": null,
            "grid_auto_columns": null,
            "margin": null,
            "display": null,
            "left": null
          }
        },
        "92be2e553a2e4508b1439b0c9a55d24c": {
          "model_module": "@jupyter-widgets/controls",
          "model_name": "DescriptionStyleModel",
          "state": {
            "_view_name": "StyleView",
            "_model_name": "DescriptionStyleModel",
            "description_width": "",
            "_view_module": "@jupyter-widgets/base",
            "_model_module_version": "1.5.0",
            "_view_count": null,
            "_view_module_version": "1.2.0",
            "_model_module": "@jupyter-widgets/controls"
          }
        },
        "9a54dbf17503481589cac73dc8f66afd": {
          "model_module": "@jupyter-widgets/base",
          "model_name": "LayoutModel",
          "state": {
            "_view_name": "LayoutView",
            "grid_template_rows": null,
            "right": null,
            "justify_content": null,
            "_view_module": "@jupyter-widgets/base",
            "overflow": null,
            "_model_module_version": "1.2.0",
            "_view_count": null,
            "flex_flow": null,
            "width": null,
            "min_width": null,
            "border": null,
            "align_items": null,
            "bottom": null,
            "_model_module": "@jupyter-widgets/base",
            "top": null,
            "grid_column": null,
            "overflow_y": null,
            "overflow_x": null,
            "grid_auto_flow": null,
            "grid_area": null,
            "grid_template_columns": null,
            "flex": null,
            "_model_name": "LayoutModel",
            "justify_items": null,
            "grid_row": null,
            "max_height": null,
            "align_content": null,
            "visibility": null,
            "align_self": null,
            "height": null,
            "min_height": null,
            "padding": null,
            "grid_auto_rows": null,
            "grid_gap": null,
            "max_width": null,
            "order": null,
            "_view_module_version": "1.2.0",
            "grid_template_areas": null,
            "object_position": null,
            "object_fit": null,
            "grid_auto_columns": null,
            "margin": null,
            "display": null,
            "left": null
          }
        },
        "65557826fb834402ae53bc7ef74b7328": {
          "model_module": "@jupyter-widgets/controls",
          "model_name": "HBoxModel",
          "state": {
            "_view_name": "HBoxView",
            "_dom_classes": [],
            "_model_name": "HBoxModel",
            "_view_module": "@jupyter-widgets/controls",
            "_model_module_version": "1.5.0",
            "_view_count": null,
            "_view_module_version": "1.5.0",
            "box_style": "",
            "layout": "IPY_MODEL_2c7d473c390b4379b5a4dffc4c3e0e33",
            "_model_module": "@jupyter-widgets/controls",
            "children": [
              "IPY_MODEL_4c439ac8be5342e096e828d83f15c004",
              "IPY_MODEL_047d6384520647548ac8061b09d97e7e"
            ]
          }
        },
        "2c7d473c390b4379b5a4dffc4c3e0e33": {
          "model_module": "@jupyter-widgets/base",
          "model_name": "LayoutModel",
          "state": {
            "_view_name": "LayoutView",
            "grid_template_rows": null,
            "right": null,
            "justify_content": null,
            "_view_module": "@jupyter-widgets/base",
            "overflow": null,
            "_model_module_version": "1.2.0",
            "_view_count": null,
            "flex_flow": null,
            "width": null,
            "min_width": null,
            "border": null,
            "align_items": null,
            "bottom": null,
            "_model_module": "@jupyter-widgets/base",
            "top": null,
            "grid_column": null,
            "overflow_y": null,
            "overflow_x": null,
            "grid_auto_flow": null,
            "grid_area": null,
            "grid_template_columns": null,
            "flex": null,
            "_model_name": "LayoutModel",
            "justify_items": null,
            "grid_row": null,
            "max_height": null,
            "align_content": null,
            "visibility": null,
            "align_self": null,
            "height": null,
            "min_height": null,
            "padding": null,
            "grid_auto_rows": null,
            "grid_gap": null,
            "max_width": null,
            "order": null,
            "_view_module_version": "1.2.0",
            "grid_template_areas": null,
            "object_position": null,
            "object_fit": null,
            "grid_auto_columns": null,
            "margin": null,
            "display": null,
            "left": null
          }
        },
        "4c439ac8be5342e096e828d83f15c004": {
          "model_module": "@jupyter-widgets/controls",
          "model_name": "FloatProgressModel",
          "state": {
            "_view_name": "ProgressView",
            "style": "IPY_MODEL_637510e3e4de4fed99eb68dba37ebad8",
            "_dom_classes": [],
            "description": "Downloading: 100%",
            "_model_name": "FloatProgressModel",
            "bar_style": "success",
            "max": 363,
            "_view_module": "@jupyter-widgets/controls",
            "_model_module_version": "1.5.0",
            "value": 363,
            "_view_count": null,
            "_view_module_version": "1.5.0",
            "orientation": "horizontal",
            "min": 0,
            "description_tooltip": null,
            "_model_module": "@jupyter-widgets/controls",
            "layout": "IPY_MODEL_ed360645d49f4e0bbadf3d7ce5c85ae2"
          }
        },
        "047d6384520647548ac8061b09d97e7e": {
          "model_module": "@jupyter-widgets/controls",
          "model_name": "HTMLModel",
          "state": {
            "_view_name": "HTMLView",
            "style": "IPY_MODEL_d4db75b83e4c44de8aa702b3498bd82a",
            "_dom_classes": [],
            "description": "",
            "_model_name": "HTMLModel",
            "placeholder": "​",
            "_view_module": "@jupyter-widgets/controls",
            "_model_module_version": "1.5.0",
            "value": " 363/363 [00:00&lt;00:00, 2.26kB/s]",
            "_view_count": null,
            "_view_module_version": "1.5.0",
            "description_tooltip": null,
            "_model_module": "@jupyter-widgets/controls",
            "layout": "IPY_MODEL_5dae56af06ba4a138bb656f54d5fc161"
          }
        },
        "637510e3e4de4fed99eb68dba37ebad8": {
          "model_module": "@jupyter-widgets/controls",
          "model_name": "ProgressStyleModel",
          "state": {
            "_view_name": "StyleView",
            "_model_name": "ProgressStyleModel",
            "description_width": "initial",
            "_view_module": "@jupyter-widgets/base",
            "_model_module_version": "1.5.0",
            "_view_count": null,
            "_view_module_version": "1.2.0",
            "bar_color": null,
            "_model_module": "@jupyter-widgets/controls"
          }
        },
        "ed360645d49f4e0bbadf3d7ce5c85ae2": {
          "model_module": "@jupyter-widgets/base",
          "model_name": "LayoutModel",
          "state": {
            "_view_name": "LayoutView",
            "grid_template_rows": null,
            "right": null,
            "justify_content": null,
            "_view_module": "@jupyter-widgets/base",
            "overflow": null,
            "_model_module_version": "1.2.0",
            "_view_count": null,
            "flex_flow": null,
            "width": null,
            "min_width": null,
            "border": null,
            "align_items": null,
            "bottom": null,
            "_model_module": "@jupyter-widgets/base",
            "top": null,
            "grid_column": null,
            "overflow_y": null,
            "overflow_x": null,
            "grid_auto_flow": null,
            "grid_area": null,
            "grid_template_columns": null,
            "flex": null,
            "_model_name": "LayoutModel",
            "justify_items": null,
            "grid_row": null,
            "max_height": null,
            "align_content": null,
            "visibility": null,
            "align_self": null,
            "height": null,
            "min_height": null,
            "padding": null,
            "grid_auto_rows": null,
            "grid_gap": null,
            "max_width": null,
            "order": null,
            "_view_module_version": "1.2.0",
            "grid_template_areas": null,
            "object_position": null,
            "object_fit": null,
            "grid_auto_columns": null,
            "margin": null,
            "display": null,
            "left": null
          }
        },
        "d4db75b83e4c44de8aa702b3498bd82a": {
          "model_module": "@jupyter-widgets/controls",
          "model_name": "DescriptionStyleModel",
          "state": {
            "_view_name": "StyleView",
            "_model_name": "DescriptionStyleModel",
            "description_width": "",
            "_view_module": "@jupyter-widgets/base",
            "_model_module_version": "1.5.0",
            "_view_count": null,
            "_view_module_version": "1.2.0",
            "_model_module": "@jupyter-widgets/controls"
          }
        },
        "5dae56af06ba4a138bb656f54d5fc161": {
          "model_module": "@jupyter-widgets/base",
          "model_name": "LayoutModel",
          "state": {
            "_view_name": "LayoutView",
            "grid_template_rows": null,
            "right": null,
            "justify_content": null,
            "_view_module": "@jupyter-widgets/base",
            "overflow": null,
            "_model_module_version": "1.2.0",
            "_view_count": null,
            "flex_flow": null,
            "width": null,
            "min_width": null,
            "border": null,
            "align_items": null,
            "bottom": null,
            "_model_module": "@jupyter-widgets/base",
            "top": null,
            "grid_column": null,
            "overflow_y": null,
            "overflow_x": null,
            "grid_auto_flow": null,
            "grid_area": null,
            "grid_template_columns": null,
            "flex": null,
            "_model_name": "LayoutModel",
            "justify_items": null,
            "grid_row": null,
            "max_height": null,
            "align_content": null,
            "visibility": null,
            "align_self": null,
            "height": null,
            "min_height": null,
            "padding": null,
            "grid_auto_rows": null,
            "grid_gap": null,
            "max_width": null,
            "order": null,
            "_view_module_version": "1.2.0",
            "grid_template_areas": null,
            "object_position": null,
            "object_fit": null,
            "grid_auto_columns": null,
            "margin": null,
            "display": null,
            "left": null
          }
        }
      }
    }
  },
  "cells": [
    {
      "cell_type": "markdown",
      "metadata": {
        "id": "HKuDXBRFDgCZ"
      },
      "source": [
        "\r\n",
        "\r\n",
        "https://curiousily.com/posts/sentiment-analysis-with-bert-and-hugging-face-using-pytorch-and-python/\r\n",
        "\r\n",
        "https://towardsdatascience.com/how-to-make-the-most-out-of-bert-finetuning-d7c9f2ca806c\r\n",
        "\r\n",
        "https://skimai.com/fine-tuning-bert-for-sentiment-analysis/\r\n",
        "\r\n",
        "https://huggingface.co/transformers/glossary.html\r\n",
        "\r\n",
        "Warmup and annealing\r\n"
      ]
    },
    {
      "cell_type": "code",
      "metadata": {
        "id": "qufbQABos1nJ"
      },
      "source": [
        "!pip install transformers"
      ],
      "execution_count": null,
      "outputs": []
    },
    {
      "cell_type": "code",
      "metadata": {
        "id": "tpVbOykcs8bW"
      },
      "source": [
        "import torch\n",
        "import pandas as pd\n",
        "from torch.utils.data import DataLoader\n",
        "from transformers import DistilBertForSequenceClassification, AdamW, AutoConfig, AutoModel, get_linear_schedule_with_warmup\n",
        "from transformers import DistilBertTokenizerFast, AutoModelForSequenceClassification, BertModel\n",
        "import torch.nn as nn\n",
        "import matplotlib.pyplot as plt\n",
        "import seaborn as sns\n",
        "import numpy as np"
      ],
      "execution_count": null,
      "outputs": []
    },
    {
      "cell_type": "code",
      "metadata": {
        "id": "ob26aUo0vC8v"
      },
      "source": [
        "train_data = pd.read_csv ('https://raw.githubusercontent.com/ltgoslo/NorBERT/main/benchmarking/data/sentiment/no/train.csv', header = None)\n",
        "dev_data = pd.read_csv ('https://raw.githubusercontent.com/ltgoslo/NorBERT/main/benchmarking/data/sentiment/no/dev.csv', header = None)\n",
        "test_data = pd.read_csv ('https://raw.githubusercontent.com/ltgoslo/NorBERT/main/benchmarking/data/sentiment/no/test.csv', header = None)"
      ],
      "execution_count": null,
      "outputs": []
    },
    {
      "cell_type": "code",
      "metadata": {
        "id": "LcZx976ivEHS",
        "colab": {
          "base_uri": "https://localhost:8080/",
          "height": 406
        },
        "outputId": "39f283ad-524f-444b-dd78-e67cc87de285"
      },
      "source": [
        "train_data"
      ],
      "execution_count": null,
      "outputs": [
        {
          "output_type": "execute_result",
          "data": {
            "text/html": [
              "<div>\n",
              "<style scoped>\n",
              "    .dataframe tbody tr th:only-of-type {\n",
              "        vertical-align: middle;\n",
              "    }\n",
              "\n",
              "    .dataframe tbody tr th {\n",
              "        vertical-align: top;\n",
              "    }\n",
              "\n",
              "    .dataframe thead th {\n",
              "        text-align: right;\n",
              "    }\n",
              "</style>\n",
              "<table border=\"1\" class=\"dataframe\">\n",
              "  <thead>\n",
              "    <tr style=\"text-align: right;\">\n",
              "      <th></th>\n",
              "      <th>0</th>\n",
              "      <th>1</th>\n",
              "    </tr>\n",
              "  </thead>\n",
              "  <tbody>\n",
              "    <tr>\n",
              "      <th>0</th>\n",
              "      <td>0</td>\n",
              "      <td>Verre er det med slagsmålene .</td>\n",
              "    </tr>\n",
              "    <tr>\n",
              "      <th>1</th>\n",
              "      <td>0</td>\n",
              "      <td>Klipperen har overtatt Seagals martial art , o...</td>\n",
              "    </tr>\n",
              "    <tr>\n",
              "      <th>2</th>\n",
              "      <td>1</td>\n",
              "      <td>Ei finslig dame skal bli med på kjøret og obse...</td>\n",
              "    </tr>\n",
              "    <tr>\n",
              "      <th>3</th>\n",
              "      <td>0</td>\n",
              "      <td>Hvis du vil fremstå som seriøs filmskaper , ik...</td>\n",
              "    </tr>\n",
              "    <tr>\n",
              "      <th>4</th>\n",
              "      <td>0</td>\n",
              "      <td>Ingenting sier studentfilm som dét .</td>\n",
              "    </tr>\n",
              "    <tr>\n",
              "      <th>...</th>\n",
              "      <td>...</td>\n",
              "      <td>...</td>\n",
              "    </tr>\n",
              "    <tr>\n",
              "      <th>2670</th>\n",
              "      <td>0</td>\n",
              "      <td>Schøyen og Johannes Joner spiller et merkelig ...</td>\n",
              "    </tr>\n",
              "    <tr>\n",
              "      <th>2671</th>\n",
              "      <td>0</td>\n",
              "      <td>Bror hans flytter hjemmefra etter at kona har ...</td>\n",
              "    </tr>\n",
              "    <tr>\n",
              "      <th>2672</th>\n",
              "      <td>0</td>\n",
              "      <td>Stå klar med pille og vann , her kommer en nor...</td>\n",
              "    </tr>\n",
              "    <tr>\n",
              "      <th>2673</th>\n",
              "      <td>0</td>\n",
              "      <td>Den tredje fotballtilhengeren er brødrenes pap...</td>\n",
              "    </tr>\n",
              "    <tr>\n",
              "      <th>2674</th>\n",
              "      <td>0</td>\n",
              "      <td>Så sære som dette er ikke engang folk med Joha...</td>\n",
              "    </tr>\n",
              "  </tbody>\n",
              "</table>\n",
              "<p>2675 rows × 2 columns</p>\n",
              "</div>"
            ],
            "text/plain": [
              "      0                                                  1\n",
              "0     0                     Verre er det med slagsmålene .\n",
              "1     0  Klipperen har overtatt Seagals martial art , o...\n",
              "2     1  Ei finslig dame skal bli med på kjøret og obse...\n",
              "3     0  Hvis du vil fremstå som seriøs filmskaper , ik...\n",
              "4     0               Ingenting sier studentfilm som dét .\n",
              "...  ..                                                ...\n",
              "2670  0  Schøyen og Johannes Joner spiller et merkelig ...\n",
              "2671  0  Bror hans flytter hjemmefra etter at kona har ...\n",
              "2672  0  Stå klar med pille og vann , her kommer en nor...\n",
              "2673  0  Den tredje fotballtilhengeren er brødrenes pap...\n",
              "2674  0  Så sære som dette er ikke engang folk med Joha...\n",
              "\n",
              "[2675 rows x 2 columns]"
            ]
          },
          "metadata": {
            "tags": []
          },
          "execution_count": 4
        }
      ]
    },
    {
      "cell_type": "code",
      "metadata": {
        "colab": {
          "base_uri": "https://localhost:8080/",
          "height": 352
        },
        "id": "XDbwR668A3A_",
        "outputId": "3a42aecb-345f-4388-ed92-953b5398f57b"
      },
      "source": [
        "sns.countplot(train_data.iloc[:,0])\r\n",
        "plt.xlabel(\"Dist. of classes\")"
      ],
      "execution_count": null,
      "outputs": [
        {
          "output_type": "stream",
          "text": [
            "/usr/local/lib/python3.6/dist-packages/seaborn/_decorators.py:43: FutureWarning: Pass the following variable as a keyword arg: x. From version 0.12, the only valid positional argument will be `data`, and passing other arguments without an explicit keyword will result in an error or misinterpretation.\n",
            "  FutureWarning\n"
          ],
          "name": "stderr"
        },
        {
          "output_type": "execute_result",
          "data": {
            "text/plain": [
              "Text(0.5, 0, 'Dist. of classes')"
            ]
          },
          "metadata": {
            "tags": []
          },
          "execution_count": 5
        },
        {
          "output_type": "display_data",
          "data": {
            "image/png": "[encoded data removed]",
            "text/plain": [
              "<Figure size 432x288 with 1 Axes>"
            ]
          },
          "metadata": {
            "tags": [],
            "needs_background": "light"
          }
        }
      ]
    },
    {
      "cell_type": "code",
      "metadata": {
        "id": "JVd3OxmyvFik",
        "colab": {
          "base_uri": "https://localhost:8080/",
          "height": 166,
          "referenced_widgets": [
            "652f5e5c62544f35be255997ee2fbb68",
            "a374f1e2e6db4f7388aa8926e6dfd705",
            "c470ddb8bb5e4e3cb851be10436170a3",
            "2a7b069e1ac545a7bc29359664b36e28",
            "616b30aba7c345b0a1ddfecf2fa9af85",
            "b331dfb2a49d474a9b04a8224207eafe",
            "bd699e749e2a489abeede0f4a1b92ce9",
            "48c81271200947d4b7f0a7a46edb88a4",
            "8889ce31af0147c0b231ea6e3334dd47",
            "7629deb857734b00b52b8489e17b4c6f",
            "9228c1559ee14ee992c3b6c4786f401e",
            "ead8d7e987cc4d4c97f0929d94a1d009",
            "a9b4abc19e83439780b6467b6d7a3d40",
            "1cb3795108af46f187d9e21466f68573",
            "92be2e553a2e4508b1439b0c9a55d24c",
            "9a54dbf17503481589cac73dc8f66afd",
            "65557826fb834402ae53bc7ef74b7328",
            "2c7d473c390b4379b5a4dffc4c3e0e33",
            "4c439ac8be5342e096e828d83f15c004",
            "047d6384520647548ac8061b09d97e7e",
            "637510e3e4de4fed99eb68dba37ebad8",
            "ed360645d49f4e0bbadf3d7ce5c85ae2",
            "d4db75b83e4c44de8aa702b3498bd82a",
            "5dae56af06ba4a138bb656f54d5fc161"
          ]
        },
        "outputId": "2e90739a-6796-4c93-c95d-3d4c42ce5bbe"
      },
      "source": [
        "tokenizer = DistilBertTokenizerFast.from_pretrained('NbAiLab/nb-bert-base')"
      ],
      "execution_count": null,
      "outputs": [
        {
          "output_type": "display_data",
          "data": {
            "application/vnd.jupyter.widget-view+json": {
              "model_id": "652f5e5c62544f35be255997ee2fbb68",
              "version_minor": 0,
              "version_major": 2
            },
            "text/plain": [
              "HBox(children=(FloatProgress(value=0.0, description='Downloading', max=995526.0, style=ProgressStyle(descripti…"
            ]
          },
          "metadata": {
            "tags": []
          }
        },
        {
          "output_type": "stream",
          "text": [
            "\n"
          ],
          "name": "stdout"
        },
        {
          "output_type": "display_data",
          "data": {
            "application/vnd.jupyter.widget-view+json": {
              "model_id": "8889ce31af0147c0b231ea6e3334dd47",
              "version_minor": 0,
              "version_major": 2
            },
            "text/plain": [
              "HBox(children=(FloatProgress(value=0.0, description='Downloading', max=112.0, style=ProgressStyle(description_…"
            ]
          },
          "metadata": {
            "tags": []
          }
        },
        {
          "output_type": "stream",
          "text": [
            "\n"
          ],
          "name": "stdout"
        },
        {
          "output_type": "display_data",
          "data": {
            "application/vnd.jupyter.widget-view+json": {
              "model_id": "65557826fb834402ae53bc7ef74b7328",
              "version_minor": 0,
              "version_major": 2
            },
            "text/plain": [
              "HBox(children=(FloatProgress(value=0.0, description='Downloading', max=363.0, style=ProgressStyle(description_…"
            ]
          },
          "metadata": {
            "tags": []
          }
        },
        {
          "output_type": "stream",
          "text": [
            "\n"
          ],
          "name": "stdout"
        }
      ]
    },
    {
      "cell_type": "code",
      "metadata": {
        "colab": {
          "base_uri": "https://localhost:8080/"
        },
        "id": "TQCW9H0SBhAk",
        "outputId": "3bd8fc3a-b2f1-4aa3-879f-3313cd3a18f1"
      },
      "source": [
        "sample = train_data.iloc[1,1]\r\n",
        "tokens = tokenizer.tokenize(sample)\r\n",
        "token_ids = tokenizer.convert_tokens_to_ids(tokens)\r\n",
        "\r\n",
        "print(f'Sentence: {sample}')\r\n",
        "print(f'Tokens: {tokens}')\r\n",
        "print(f'Token IDs: {token_ids}')"
      ],
      "execution_count": null,
      "outputs": [
        {
          "output_type": "stream",
          "text": [
            "Sentence: Klipperen har overtatt Seagals martial art , og slåssinga er så kjipt og kjapt klippet at filmen antakelig kunne ha inneholdt Titanics undergang uten at du oppdaget det .\n",
            "Tokens: ['K', '##lip', '##pere', '##n', 'har', 'over', '##tatt', 'Sea', '##gal', '##s', 'martial', 'art', ',', 'og', 'slå', '##ssing', '##a', 'er', 'så', 'k', '##ji', '##pt', 'og', 'k', '##ja', '##pt', 'klip', '##pet', 'at', 'filmen', 'ant', '##ake', '##lig', 'kunne', 'ha', 'inne', '##holdt', 'Titanic', '##s', 'under', '##gang', 'uten', 'at', 'du', 'oppdaget', 'det', '.']\n",
            "Token IDs: [148, 69553, 62443, 10115, 10453, 10491, 35962, 14741, 17026, 10107, 65187, 11938, 117, 10156, 86322, 63400, 10113, 10163, 12543, 179, 10775, 14971, 10156, 179, 10320, 14971, 105565, 19094, 10160, 25145, 14917, 26389, 12554, 15376, 10228, 24569, 32421, 47511, 10107, 10571, 13755, 34184, 10160, 10168, 98124, 10349, 119]\n"
          ],
          "name": "stdout"
        }
      ]
    },
    {
      "cell_type": "code",
      "metadata": {
        "colab": {
          "base_uri": "https://localhost:8080/",
          "height": 352
        },
        "id": "itKu2p26Cfoj",
        "outputId": "dc794b89-fd07-4b84-fa09-ab8277e28208"
      },
      "source": [
        "token_lens = []\r\n",
        "for txt in train_data.iloc[:,1]:\r\n",
        "  tokens = tokenizer.encode(txt, max_length=512)\r\n",
        "  token_lens.append(len(tokens))\r\n",
        "\r\n",
        "sns.distplot(token_lens)\r\n",
        "plt.xlim([0, 256]);\r\n",
        "plt.xlabel('Token count');"
      ],
      "execution_count": null,
      "outputs": [
        {
          "output_type": "stream",
          "text": [
            "Truncation was not explicitly activated but `max_length` is provided a specific value, please use `truncation=True` to explicitly truncate examples to max length. Defaulting to 'longest_first' truncation strategy. If you encode pairs of sequences (GLUE-style) with the tokenizer you can select this strategy more precisely by providing a specific strategy to `truncation`.\n",
            "/usr/local/lib/python3.6/dist-packages/seaborn/distributions.py:2557: FutureWarning: `distplot` is a deprecated function and will be removed in a future version. Please adapt your code to use either `displot` (a figure-level function with similar flexibility) or `histplot` (an axes-level function for histograms).\n",
            "  warnings.warn(msg, FutureWarning)\n"
          ],
          "name": "stderr"
        },
        {
          "output_type": "display_data",
          "data": {
            "image/png": "[encoded data removed]",
            "text/plain": [
              "<Figure size 432x288 with 1 Axes>"
            ]
          },
          "metadata": {
            "tags": [],
            "needs_background": "light"
          }
        }
      ]
    },
    {
      "cell_type": "code",
      "metadata": {
        "id": "sls2Mtc8vXxX"
      },
      "source": [
        "max_seq_length = 150\n",
        "train_encodings = tokenizer(list(train_data[1]), truncation=True, padding=True, max_length=max_seq_length)\n",
        "val_encodings = tokenizer(list(dev_data[1]), truncation=True, padding=True, max_length=max_seq_length)\n",
        "test_encodings = tokenizer(list(test_data[1]), truncation=True, padding=True, max_length=max_seq_length)"
      ],
      "execution_count": null,
      "outputs": []
    },
    {
      "cell_type": "code",
      "metadata": {
        "id": "weaajhHnvXt-"
      },
      "source": [
        "class NorskFilmKritikk(torch.utils.data.Dataset):\n",
        "    def __init__(self, encodings, labels):\n",
        "        self.encodings = encodings\n",
        "        self.labels = labels\n",
        "\n",
        "    def __getitem__(self, idx):\n",
        "        item = {key: torch.tensor(val[idx]) for key, val in self.encodings.items()}\n",
        "        item['labels'] = torch.tensor(self.labels[idx])\n",
        "        return item\n",
        "\n",
        "    def __len__(self):\n",
        "        return len(self.labels)\n",
        "\n",
        "train_dataset = NorskFilmKritikk(train_encodings, list(train_data[0]))\n",
        "val_dataset = NorskFilmKritikk(val_encodings, list(dev_data[0]))\n",
        "test_dataset = NorskFilmKritikk(test_encodings, list(test_data[0]))"
      ],
      "execution_count": null,
      "outputs": []
    },
    {
      "cell_type": "code",
      "metadata": {
        "colab": {
          "base_uri": "https://localhost:8080/"
        },
        "id": "56Y9z6TEogoF",
        "outputId": "f6c1d454-6cdf-45bb-9478-a00b54d98449"
      },
      "source": [
        "device = torch.device('cuda') if torch.cuda.is_available() else torch.device('cpu')\r\n",
        "print(device)"
      ],
      "execution_count": null,
      "outputs": [
        {
          "output_type": "stream",
          "text": [
            "cuda\n"
          ],
          "name": "stdout"
        }
      ]
    },
    {
      "cell_type": "code",
      "metadata": {
        "id": "RLxarwN2oaYa"
      },
      "source": [
        "train_loader = DataLoader(train_dataset, batch_size=16, shuffle=True)\r\n",
        "val_loader = DataLoader(val_dataset, batch_size=16, shuffle=True)"
      ],
      "execution_count": null,
      "outputs": []
    },
    {
      "cell_type": "code",
      "metadata": {
        "id": "hBNNmqghzfGx"
      },
      "source": [
        "class BertClassifier(nn.Module):\r\n",
        "  def __init__(self, freeze_bert=False):\r\n",
        "    super(BertClassifier, self).__init__()\r\n",
        "    D_in, H, D_out = 768, 50, 2\r\n",
        "    \r\n",
        "    self.bert = BertModel.from_pretrained('NbAiLab/nb-bert-base')\r\n",
        "\r\n",
        "    self.classifier = nn.Sequential(\r\n",
        "        nn.Linear(D_in, H),\r\n",
        "        nn.ReLU(),\r\n",
        "        nn.Linear(H, D_out)\r\n",
        "    )\r\n",
        "\r\n",
        "    if freeze_bert:\r\n",
        "      for param in self.bert_parameters():\r\n",
        "        param.requires_grad = False\r\n",
        "    \r\n",
        "  def forward(self, input_ids, attention_mask):\r\n",
        "    outputs = self.bert(input_ids=input_ids,\r\n",
        "                        attention_mask=attention_mask)\r\n",
        "    last_hidden_state_cls = outputs[0][:, 0, :]\r\n",
        "\r\n",
        "    logits=self.classifier(last_hidden_state_cls)\r\n",
        "\r\n",
        "    return logits"
      ],
      "execution_count": null,
      "outputs": []
    },
    {
      "cell_type": "code",
      "metadata": {
        "id": "X4HTI1yejFyP"
      },
      "source": [
        "def init_model(epochs=10):\r\n",
        "  model = BertClassifier()\r\n",
        "  optim = AdamW(model.parameters(),\r\n",
        "                lr=5e-5,\r\n",
        "                eps=1e-8)\r\n",
        "  total_steps = epochs*len(train_loader)\r\n",
        "  scheduler = get_linear_schedule_with_warmup(optim,\r\n",
        "                                              num_warmup_steps=2*len(train_loader),\r\n",
        "                                              num_training_steps=total_steps)\r\n",
        "  \r\n",
        "  return model, optim, scheduler\r\n",
        "  "
      ],
      "execution_count": null,
      "outputs": []
    },
    {
      "cell_type": "code",
      "metadata": {
        "id": "6j4T-PROjbxa"
      },
      "source": [
        "def train(model, train_loader, val_loader=None, epochs=10, \r\n",
        "          eval=False, plot_bool=False):\r\n",
        "  criterion = nn.CrossEntropyLoss()\r\n",
        "  print(\"Training commenced.\")\r\n",
        "  model.to(device)\r\n",
        "  model.train()\r\n",
        "  for epoch in range(epochs):\r\n",
        "    tot_loss, batch_loss, batch_count = 0,0,0\r\n",
        "\r\n",
        "    for batch in train_loader:\r\n",
        "      optim.zero_grad()\r\n",
        "\r\n",
        "      input_ids = batch['input_ids'].to(device)\r\n",
        "      attention_mask = batch['attention_mask'].to(device)\r\n",
        "      labels = batch['labels'].to(device)\r\n",
        "\r\n",
        "      logits = model(input_ids, attention_mask)\r\n",
        "\r\n",
        "      loss = criterion(logits, labels)\r\n",
        "      tot_loss+=loss.item()\r\n",
        "      batch_loss+=loss.item()\r\n",
        "\r\n",
        "      loss.backward()\r\n",
        "      torch.nn.utils.clip_grad_norm_(model.parameters(), 1.0)\r\n",
        "\r\n",
        "      optim.step()\r\n",
        "      scheduler.step()\r\n",
        "\r\n",
        "    avg_train_loss = tot_loss / len(train_loader)\r\n",
        "    print(f'Epoch: {epoch+1}')\r\n",
        "    if eval:\r\n",
        "      val_loss, val_acc = evaluate(model, val_loader, criterion)\r\n",
        "      print(f'Avg. train loss: {avg_train_loss:.5} | Val. loss: {val_loss:.5} | Val. acc. {val_acc:.3}')\r\n",
        "    else:\r\n",
        "      print(f'Avg. train loss: {avg_train_loss}')\r\n",
        "\r\n",
        "  if plot_bool:\r\n",
        "    plot_loss(avg_train_loss, val_loss)"
      ],
      "execution_count": null,
      "outputs": []
    },
    {
      "cell_type": "code",
      "metadata": {
        "id": "oXPAhnlGueil"
      },
      "source": [
        "def evaluate(model, eval_data, criterion):\r\n",
        "  model.eval()\r\n",
        "  val_acc = []\r\n",
        "  val_loss = []\r\n",
        "\r\n",
        "  for batch in eval_data:\r\n",
        "    input_ids = batch['input_ids'].to(device)\r\n",
        "    attention_mask = batch['attention_mask'].to(device)\r\n",
        "    labels = batch['labels'].to(device)\r\n",
        "\r\n",
        "    with torch.no_grad():\r\n",
        "      logits = model(input_ids, attention_mask)\r\n",
        "    \r\n",
        "    loss = criterion(logits, labels)\r\n",
        "    val_loss.append(loss.item())\r\n",
        "\r\n",
        "    preds = torch.argmax(logits, dim=1).flatten()\r\n",
        "\r\n",
        "    acc = (preds == labels).cpu().numpy().mean() * 100\r\n",
        "    val_acc.append(acc)\r\n",
        "  \r\n",
        "  val_loss = np.mean(val_loss)\r\n",
        "  val_acc = np.mean(val_acc)\r\n",
        "\r\n",
        "  return val_loss, val_acc"
      ],
      "execution_count": null,
      "outputs": []
    },
    {
      "cell_type": "code",
      "metadata": {
        "colab": {
          "base_uri": "https://localhost:8080/"
        },
        "id": "br30jnWYI8TS",
        "outputId": "ecd40a94-51e3-42ce-b7d1-a63445476a6e"
      },
      "source": [
        "def plot_loss(train_loss, val_loss):\r\n",
        "  plt.plot(val_loss,       label=\"Valididation loss\")\r\n",
        "  plt.plot(avg_train_loss, label='Train loss')\r\n",
        "  plt.xlabel(\"Epochs\")\r\n",
        "  plt.ylabel(\"Loss\")\r\n",
        "  plt.legend()\r\n",
        "  plt.show()"
      ],
      "execution_count": null,
      "outputs": [
        {
          "output_type": "stream",
          "text": [
            " 1.06\n"
          ],
          "name": "stdout"
        }
      ]
    },
    {
      "cell_type": "code",
      "metadata": {
        "id": "DACpWAV1JFUI"
      },
      "source": [
        "bert_classifier, optim, scheduler = init_model(epochs=10)\r\n",
        "train(bert_classifier, train_loader, val_loader=val_loader, epochs=10, eval=True)"
      ],
      "execution_count": null,
      "outputs": []
    }
  ]
}